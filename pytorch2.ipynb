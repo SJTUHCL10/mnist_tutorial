{
 "cells": [
  {
   "cell_type": "markdown",
   "metadata": {},
   "source": [
    "# Pytorch Tutorial"
   ]
  },
  {
   "cell_type": "markdown",
   "metadata": {},
   "source": [
    "Pytorch is a popular deep learning framework and it's easy to get started."
   ]
  },
  {
   "cell_type": "code",
   "execution_count": 1,
   "metadata": {},
   "outputs": [],
   "source": [
    "import torch\n",
    "import torch.nn as nn\n",
    "import torch.nn.functional as F\n",
    "import torch.utils.data as data\n",
    "import torchvision\n",
    "import torchvision.transforms as transforms\n",
    "from tqdm import tqdm\n",
    "import time\n",
    "import matplotlib.pyplot as plt\n",
    "\n",
    "BATCH_SIZE = 128\n",
    "NUM_EPOCHS = 30"
   ]
  },
  {
   "cell_type": "markdown",
   "metadata": {},
   "source": [
    "First, we read the mnist data, preprocess them and encapsulate them into dataloader form."
   ]
  },
  {
   "cell_type": "code",
   "execution_count": 2,
   "metadata": {},
   "outputs": [],
   "source": [
    "# preprocessing\n",
    "normalize = transforms.Normalize(mean=[.5], std=[.5])\n",
    "transform = transforms.Compose([transforms.ToTensor(), normalize])\n",
    "\n",
    "# download and load the data\n",
    "train_dataset = torchvision.datasets.MNIST(root='./mnist/', train=True, transform=transform, download=True)\n",
    "test_dataset = torchvision.datasets.MNIST(root='./mnist/', train=False, transform=transform, download=False)\n",
    "\n",
    "# encapsulate them into dataloader form\n",
    "train_loader = data.DataLoader(train_dataset, batch_size=BATCH_SIZE, shuffle=True, drop_last=True)\n",
    "test_loader = data.DataLoader(test_dataset, batch_size=BATCH_SIZE, shuffle=False, drop_last=True)"
   ]
  },
  {
   "cell_type": "markdown",
   "metadata": {},
   "source": [
    "Then, we define the model, object function and optimizer that we use to classify."
   ]
  },
  {
   "cell_type": "code",
   "execution_count": 3,
   "metadata": {},
   "outputs": [],
   "source": [
    "class SimpleNet(nn.Module):\n",
    "# TODO:define model\n",
    "    \n",
    "    def __init__(self):\n",
    "        super(SimpleNet, self).__init__()\n",
    "        self.fc1 = nn.Linear(28*28,500)\n",
    "        self.fc2 = nn.Linear(500,100)\n",
    "        self.fc3 = nn.Linear(100,10)\n",
    "    def forward(self,x):\n",
    "        x = self.fc1(x)\n",
    "        x = F.relu(x)\n",
    "        x = self.fc2(x)\n",
    "        x = F.relu(x)\n",
    "        x = self.fc3(x)\n",
    "        output = F.softmax(x, dim = 1)\n",
    "        return output\n",
    "    \n",
    "model = SimpleNet()\n",
    "\n",
    "# TODO:define loss function and optimiter\n",
    "criterion = nn.CrossEntropyLoss()\n",
    "optimizer = torch.optim.Adam(model.parameters(), lr=0.0008, weight_decay=0.0)"
   ]
  },
  {
   "cell_type": "markdown",
   "metadata": {},
   "source": [
    "Next, we can start to train and evaluate!"
   ]
  },
  {
   "cell_type": "code",
   "execution_count": 4,
   "metadata": {
    "scrolled": true
   },
   "outputs": [
    {
     "name": "stderr",
     "output_type": "stream",
     "text": [
      "100%|██████████| 468/468 [00:09<00:00, 51.04it/s]\n",
      "100%|██████████| 468/468 [00:09<00:00, 47.50it/s]\n",
      "100%|██████████| 468/468 [00:10<00:00, 46.46it/s]\n",
      "100%|██████████| 468/468 [00:10<00:00, 43.63it/s]\n",
      "100%|██████████| 468/468 [00:10<00:00, 44.58it/s]\n",
      "100%|██████████| 468/468 [00:10<00:00, 45.49it/s]\n",
      "100%|██████████| 468/468 [00:10<00:00, 46.62it/s]\n",
      "100%|██████████| 468/468 [00:10<00:00, 46.45it/s]\n",
      "100%|██████████| 468/468 [00:09<00:00, 47.64it/s]\n",
      "100%|██████████| 468/468 [00:09<00:00, 48.22it/s]\n",
      "100%|██████████| 468/468 [00:09<00:00, 46.81it/s]\n",
      "100%|██████████| 468/468 [00:09<00:00, 48.79it/s]\n",
      "100%|██████████| 468/468 [00:09<00:00, 49.30it/s]\n",
      "100%|██████████| 468/468 [00:09<00:00, 49.42it/s]\n",
      "100%|██████████| 468/468 [00:09<00:00, 49.30it/s]\n",
      "100%|██████████| 468/468 [00:09<00:00, 49.26it/s]\n",
      "100%|██████████| 468/468 [00:09<00:00, 47.01it/s]\n",
      "100%|██████████| 468/468 [00:09<00:00, 48.22it/s]\n",
      "100%|██████████| 468/468 [00:09<00:00, 47.76it/s]\n",
      "100%|██████████| 468/468 [00:09<00:00, 47.70it/s]\n",
      "100%|██████████| 468/468 [00:09<00:00, 47.96it/s]\n",
      "100%|██████████| 468/468 [00:09<00:00, 48.49it/s]\n",
      "100%|██████████| 468/468 [00:10<00:00, 45.29it/s]\n",
      "100%|██████████| 468/468 [00:09<00:00, 47.18it/s]\n",
      "100%|██████████| 468/468 [00:10<00:00, 46.76it/s]\n",
      "100%|██████████| 468/468 [00:10<00:00, 46.30it/s]\n",
      "100%|██████████| 468/468 [00:10<00:00, 46.09it/s]\n",
      "100%|██████████| 468/468 [00:10<00:00, 46.63it/s]\n",
      "100%|██████████| 468/468 [00:11<00:00, 40.98it/s]\n",
      "100%|██████████| 468/468 [00:11<00:00, 39.75it/s]\n",
      "100%|██████████| 468/468 [00:07<00:00, 66.47it/s]\n",
      "100%|██████████| 78/78 [00:01<00:00, 66.45it/s]\n"
     ]
    },
    {
     "data": {
      "image/png": "[encoded data removed]",
      "text/plain": [
       "<Figure size 432x288 with 1 Axes>"
      ]
     },
     "metadata": {
      "needs_background": "light"
     },
     "output_type": "display_data"
    }
   ],
   "source": [
    "# train and evaluate\n",
    "\n",
    "trainingloss=[]\n",
    "\n",
    "for epoch in range(NUM_EPOCHS):\n",
    "    temploss=[]\n",
    "    for images, labels in tqdm(train_loader):\n",
    "        # TODO:forward + backward + optimize\n",
    "        optimizer.zero_grad()\n",
    "        outputs = model(images.reshape(-1,28*28))\n",
    "        loss = criterion(outputs, labels)\n",
    "        loss.backward()\n",
    "        optimizer.step()\n",
    "        temploss.append(loss.item())\n",
    "    trainingloss.append(sum(temploss)/len(temploss))\n",
    "        \n",
    "plt.plot(range(len(trainingloss)),trainingloss)\n",
    "        \n",
    "    # evaluate\n",
    "    # TODO:calculate the accuracy using traning and testing dataset\n",
    "    \n",
    "train_correct = 0\n",
    "train_total = 0\n",
    "test_correct = 0\n",
    "test_total = 0\n",
    "with torch.no_grad():\n",
    "    for images, labels in tqdm(train_loader):\n",
    "        outputs = model(images.reshape(-1,28*28))\n",
    "        _, predicted = torch.max(outputs.data, 1)\n",
    "        train_total += labels.size(0)\n",
    "        train_correct += (predicted == labels).sum().item()\n",
    "    for images, labels in tqdm(test_loader):\n",
    "        outputs = model(images.reshape(-1,28*28))\n",
    "        _, predicted = torch.max(outputs.data, 1)\n",
    "        test_total += labels.size(0)\n",
    "        test_correct += (predicted == labels).sum().item()\n",
    "train_accuracy = train_correct / train_total\n",
    "test_accuracy = test_correct / test_total\n"
   ]
  },
  {
   "cell_type": "markdown",
   "metadata": {},
   "source": [
    "#### Q5:\n",
    "Please print the training and testing accuracy."
   ]
  },
  {
   "cell_type": "code",
   "execution_count": 5,
   "metadata": {},
   "outputs": [
    {
     "name": "stdout",
     "output_type": "stream",
     "text": [
      "Training accuracy: 98.69%\n",
      "Testing accuracy: 97.65%\n"
     ]
    }
   ],
   "source": [
    "print('Training accuracy: %0.2f%%' % (train_accuracy*100))\n",
    "print('Testing accuracy: %0.2f%%' % (test_accuracy*100))"
   ]
  },
  {
   "cell_type": "code",
   "execution_count": null,
   "metadata": {},
   "outputs": [],
   "source": []
  }
 ],
 "metadata": {
  "kernelspec": {
   "display_name": "Python 3",
   "language": "python",
   "name": "python3"
  },
  "language_info": {
   "codemirror_mode": {
    "name": "ipython",
    "version": 3
   },
   "file_extension": ".py",
   "mimetype": "text/x-python",
   "name": "python",
   "nbconvert_exporter": "python",
   "pygments_lexer": "ipython3",
   "version": "3.7.4"
  }
 },
 "nbformat": 4,
 "nbformat_minor": 4
}
